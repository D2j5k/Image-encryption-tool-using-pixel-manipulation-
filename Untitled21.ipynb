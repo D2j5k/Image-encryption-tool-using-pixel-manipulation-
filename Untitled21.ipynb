{
  "nbformat": 4,
  "nbformat_minor": 0,
  "metadata": {
    "colab": {
      "provenance": [],
      "gpuType": "T4",
      "authorship_tag": "ABX9TyMXBD423pYG8WArGpY4Wt2J",
      "include_colab_link": true
    },
    "kernelspec": {
      "name": "python3",
      "display_name": "Python 3"
    },
    "language_info": {
      "name": "python"
    },
    "accelerator": "GPU"
  },
  "cells": [
    {
      "cell_type": "markdown",
      "metadata": {
        "id": "view-in-github",
        "colab_type": "text"
      },
      "source": [
        "<a href=\"https://colab.research.google.com/github/D2j5k/Image-encryption-tool-using-pixel-manipulation-/blob/main/Untitled21.ipynb\" target=\"_parent\"><img src=\"https://colab.research.google.com/assets/colab-badge.svg\" alt=\"Open In Colab\"/></a>"
      ]
    },
    {
      "cell_type": "code",
      "source": [
        "from PIL import Image\n",
        "\n",
        "INPUT_PATH = \"car.png.jpg\"\n",
        "ENCRYPTED_PATH = \"car.png\"\n",
        "DECRYPTED_PATH = \"car_decrypted.png\"\n",
        "\n",
        "def encrypt_image(image_path, output_path, key):\n",
        "    try:\n",
        "        image = Image.open(image_path)\n",
        "        pixels = list(image.getdata())\n",
        "        encrypted_pixels = []\n",
        "\n",
        "        for pixel in pixels:\n",
        "            if isinstance(pixel, int):  # Grayscale image\n",
        "                encrypted_pixels.append((pixel + key) % 256)\n",
        "            else:  # RGB or RGBA image\n",
        "                encrypted_pixels.append(tuple((value + key) % 256 for value in pixel))\n",
        "\n",
        "        encrypted_image = Image.new(image.mode, image.size)\n",
        "        encrypted_image.putdata(encrypted_pixels)\n",
        "        encrypted_image.save(output_path)\n",
        "        print(f\"[✔] Image encrypted and saved to '{output_path}'\")\n",
        "    except Exception as e:\n",
        "        print(f\"[✖] Encryption failed: {e}\")\n",
        "\n",
        "def decrypt_image(image_path, output_path, key):\n",
        "    try:\n",
        "        image = Image.open(image_path)\n",
        "        pixels = list(image.getdata())\n",
        "        decrypted_pixels = []\n",
        "\n",
        "        for pixel in pixels:\n",
        "            if isinstance(pixel, int):  # Grayscale image\n",
        "                decrypted_pixels.append((pixel - key) % 256)\n",
        "            else:  # RGB or RGBA image\n",
        "                decrypted_pixels.append(tuple((value - key) % 256 for value in pixel))\n",
        "\n",
        "        decrypted_image = Image.new(image.mode, image.size)\n",
        "        decrypted_image.putdata(decrypted_pixels)\n",
        "        decrypted_image.save(output_path)\n",
        "        print(f\"[✔] Image decrypted and saved to '{output_path}'\")\n",
        "    except Exception as e:\n",
        "        print(f\"[✖] Decryption failed: {e}\")\n",
        "\n",
        "def main():\n",
        "    print(\"Simple Image Encryptor/Decryptor (CLI Version)\")\n",
        "    print(\"Note: This is basic obfuscation, not secure encryption.\\n\")\n",
        "\n",
        "    choice = input(\"Do you want to encrypt or decrypt? (encrypt/decrypt): \").strip().lower()\n",
        "    if choice not in ['encrypt', 'decrypt']:\n",
        "        print(\"[✖] Invalid choice. Please enter 'encrypt' or 'decrypt'.\")\n",
        "        return\n",
        "\n",
        "    try:\n",
        "        key = int(input(\"Enter encryption/decryption key (integer): \").strip())\n",
        "    except ValueError:\n",
        "        print(\"[✖] Key must be an integer.\")\n",
        "        return\n",
        "\n",
        "    if choice == 'encrypt':\n",
        "        encrypt_image(INPUT_PATH, ENCRYPTED_PATH, key)\n",
        "    else:\n",
        "        decrypt_image(ENCRYPTED_PATH, DECRYPTED_PATH, key)\n",
        "\n",
        "if __name__ == \"__main__\":\n",
        "    main()\n"
      ],
      "metadata": {
        "colab": {
          "base_uri": "https://localhost:8080/"
        },
        "id": "Jvn_Ni_s4STf",
        "outputId": "7b0dfa49-173f-430d-96a3-bca8308ab340"
      },
      "execution_count": null,
      "outputs": [
        {
          "output_type": "stream",
          "name": "stdout",
          "text": [
            "Simple Image Encryptor/Decryptor (CLI Version)\n",
            "Note: This is basic obfuscation, not secure encryption.\n",
            "\n",
            "Do you want to encrypt or decrypt? (encrypt/decrypt): decrypt\n",
            "Enter encryption/decryption key (integer): 9000000000000\n",
            "[✔] Image decrypted and saved to 'car_decrypted.png'\n"
          ]
        }
      ]
    }
  ]
}